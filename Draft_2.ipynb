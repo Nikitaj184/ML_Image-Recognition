{
  "nbformat": 4,
  "nbformat_minor": 0,
  "metadata": {
    "colab": {
      "provenance": []
    },
    "kernelspec": {
      "name": "python3",
      "display_name": "Python 3"
    },
    "language_info": {
      "name": "python"
    }
  },
  "cells": [
    {
      "cell_type": "code",
      "source": [
        "from google.colab import drive\n",
        "drive.mount('/content/drive')\n",
        "\n",
        "import os as opx\n",
        "import cv2 as compv2\n",
        "import matplotlib.pyplot as mpyplt\n",
        "import numpy as npcore\n",
        "from sklearn.model_selection import train_test_split as tnttsplit\n",
        "\n",
        "defective_casting_pdt_pathh = '/content/drive/MyDrive/Casting_Product_Data/def_front'\n",
        "good_casting_pdt_pathh  = '/content/drive/MyDrive/Casting_Product_Data/ok_front'\n",
        "\n",
        "defective_casting_img = opx.listdir(defective_casting_pdt_pathh)\n",
        "good_casting_img = opx.listdir(good_casting_pdt_pathh)\n",
        "print(f\"Total number of defective casting product images: {len(defective_casting_img)}\")\n",
        "print(f\"Total number of non-defective casting product images: {len(good_casting_img)}\")\n",
        "\n",
        "def initial_data_visuals(folder_path, image_list, num_images=5):\n",
        "    mpyplt.figure(figsize=(15, 3))\n",
        "    for c_id in range(num_images):\n",
        "        castingfile = image_list[c_id]\n",
        "        castingpath = opx.path.join(folder_path, castingfile)\n",
        "\n",
        "        product = compv2.imread(castingpath)\n",
        "        if product is None:\n",
        "            continue\n",
        "\n",
        "        grayscaled = compv2.cvtColor(product, compv2.COLOR_BGR2GRAY) #converting the images to greyscale\n",
        "        remeasured = compv2.resize(grayscaled, (224, 224))  #resizing the images to 224×224\n",
        "        mpyplt.subplot(1, num_images, c_id + 1)\n",
        "        mpyplt.imshow(remeasured, cmap='gray')\n",
        "        mpyplt.title(castingfile, fontsize=12)\n",
        "        mpyplt.axis('off')\n",
        "    mpyplt.show()\n",
        "\n",
        "# Display 5 defective and 5 ok images\n",
        "initial_data_visuals(defective_casting_pdt_pathh, defective_casting_img)\n",
        "initial_data_visuals(good_casting_pdt_pathh, good_casting_img)"
      ],
      "metadata": {
        "id": "fQFBBMCHnui7"
      },
      "execution_count": null,
      "outputs": []
    }
  ]
}